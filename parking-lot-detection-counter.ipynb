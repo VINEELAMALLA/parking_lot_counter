{
 "cells": [
  {
   "cell_type": "code",
   "execution_count": null,
   "metadata": {
    "execution": {
     "iopub.execute_input": "2024-07-15T16:39:40.843705Z",
     "iopub.status.busy": "2024-07-15T16:39:40.843222Z",
     "iopub.status.idle": "2024-07-15T16:39:44.133147Z",
     "shell.execute_reply": "2024-07-15T16:39:44.131778Z",
     "shell.execute_reply.started": "2024-07-15T16:39:40.843647Z"
    },
    "trusted": true
   },
   "outputs": [],
   "source": [
    "import os\n",
    "import pickle\n",
    "import cv2\n",
    "import numpy as np\n",
    "import matplotlib.pyplot as plt\n",
    "from skimage.transform import resize\n",
    "import plotly.express as px\n",
    "import plotly.graph_objects as go\n",
    "from IPython.display import display, HTML\n",
    "import ipywidgets as widgets"
   ]
  },
  {
   "cell_type": "code",
   "execution_count": null,
   "metadata": {},
   "outputs": [],
   "source": []
  },
  {
   "cell_type": "code",
   "execution_count": null,
   "metadata": {
    "execution": {
     "iopub.execute_input": "2024-07-15T16:39:44.13665Z",
     "iopub.status.busy": "2024-07-15T16:39:44.135861Z",
     "iopub.status.idle": "2024-07-15T16:39:44.143212Z",
     "shell.execute_reply": "2024-07-15T16:39:44.141645Z",
     "shell.execute_reply.started": "2024-07-15T16:39:44.136609Z"
    },
    "trusted": true
   },
   "outputs": [],
   "source": [
    "# Constants\n",
    "EMPTY = True\n",
    "NOT_EMPTY = False"
   ]
  },
  {
   "cell_type": "code",
   "execution_count": null,
   "metadata": {
    "execution": {
     "iopub.execute_input": "2024-07-15T16:39:44.145603Z",
     "iopub.status.busy": "2024-07-15T16:39:44.145161Z",
     "iopub.status.idle": "2024-07-15T16:39:45.493295Z",
     "shell.execute_reply": "2024-07-15T16:39:45.492091Z",
     "shell.execute_reply.started": "2024-07-15T16:39:44.145565Z"
    },
    "trusted": true
   },
   "outputs": [],
   "source": [
    "# Load the pre-trained model\n",
    "model_path = \"/kaggle/input/parking-lot-detection-counter/parking/model/model.p\"\n",
    "MODEL = pickle.load(open(model_path, \"rb\"))"
   ]
  },
  {
   "cell_type": "code",
   "execution_count": null,
   "metadata": {
    "execution": {
     "iopub.execute_input": "2024-07-15T16:39:45.49694Z",
     "iopub.status.busy": "2024-07-15T16:39:45.496475Z",
     "iopub.status.idle": "2024-07-15T16:39:45.507216Z",
     "shell.execute_reply": "2024-07-15T16:39:45.505375Z",
     "shell.execute_reply.started": "2024-07-15T16:39:45.496905Z"
    },
    "trusted": true
   },
   "outputs": [],
   "source": [
    "# Helper functions from util.py\n",
    "def empty_or_not(spot_bgr):\n",
    "    if spot_bgr is None or spot_bgr.size == 0:\n",
    "        return NOT_EMPTY  # Treat invalid spots as occupied\n",
    "    try:\n",
    "        flat_data = []\n",
    "        img_resized = resize(spot_bgr, (15, 15, 3))\n",
    "        flat_data.append(img_resized.flatten())\n",
    "        flat_data = np.array(flat_data)\n",
    "        y_output = MODEL.predict(flat_data)\n",
    "        return EMPTY if y_output == 0 else NOT_EMPTY\n",
    "    except Exception as e:\n",
    "        print(f\"Error processing spot: {e}\")\n",
    "        return NOT_EMPTY  # Treat errors as occupied"
   ]
  },
  {
   "cell_type": "code",
   "execution_count": null,
   "metadata": {
    "execution": {
     "iopub.execute_input": "2024-07-15T16:39:45.509463Z",
     "iopub.status.busy": "2024-07-15T16:39:45.508824Z",
     "iopub.status.idle": "2024-07-15T16:39:45.598191Z",
     "shell.execute_reply": "2024-07-15T16:39:45.596596Z",
     "shell.execute_reply.started": "2024-07-15T16:39:45.509368Z"
    },
    "trusted": true
   },
   "outputs": [],
   "source": [
    "def get_parking_spots_bboxes(connected_components):\n",
    "    (totalLabels, label_ids, values, centroid) = connected_components\n",
    "    slots = []\n",
    "    coef = 1\n",
    "    for i in range(1, totalLabels):\n",
    "        x1 = int(values[i, cv2.CC_STAT_LEFT] * coef)\n",
    "        y1 = int(values[i, cv2.CC_STAT_TOP] * coef)\n",
    "        w = int(values[i, cv2.CC_STAT_WIDTH] * coef)\n",
    "        h = int(values[i, cv2.CC_STAT_HEIGHT] * coef)\n",
    "        slots.append([x1, y1, w, h])\n",
    "    return slots\n",
    "\n",
    "# Load mask image\n",
    "mask_img_path = \"/kaggle/input/parking-lot-detection-counter/parking/mask_1920_1080.png\"\n",
    "mask_img = cv2.imread(mask_img_path, cv2.IMREAD_GRAYSCALE)"
   ]
  },
  {
   "cell_type": "code",
   "execution_count": null,
   "metadata": {
    "execution": {
     "iopub.execute_input": "2024-07-15T16:39:45.600461Z",
     "iopub.status.busy": "2024-07-15T16:39:45.599946Z",
     "iopub.status.idle": "2024-07-15T16:39:45.63479Z",
     "shell.execute_reply": "2024-07-15T16:39:45.63331Z",
     "shell.execute_reply.started": "2024-07-15T16:39:45.600409Z"
    },
    "trusted": true
   },
   "outputs": [],
   "source": [
    "# Find connected components in the mask image\n",
    "connected_components = cv2.connectedComponentsWithStats(mask_img, connectivity=8, ltype=cv2.CV_32S)\n",
    "parking_bboxes = get_parking_spots_bboxes(connected_components)"
   ]
  },
  {
   "cell_type": "code",
   "execution_count": null,
   "metadata": {
    "execution": {
     "iopub.execute_input": "2024-07-15T16:39:45.636715Z",
     "iopub.status.busy": "2024-07-15T16:39:45.636356Z",
     "iopub.status.idle": "2024-07-15T16:39:45.649078Z",
     "shell.execute_reply": "2024-07-15T16:39:45.647604Z",
     "shell.execute_reply.started": "2024-07-15T16:39:45.636685Z"
    },
    "trusted": true
   },
   "outputs": [],
   "source": [
    "# EDA and visualization\n",
    "def visualize_parking_spots(image, bboxes, title=\"Parking Spots\"):\n",
    "    for bbox in bboxes:\n",
    "        x, y, w, h = bbox\n",
    "        if w > 0 and h > 0:  # Ensure valid bounding box dimensions\n",
    "            spot = image[y:y+h, x:x+w]\n",
    "            if spot.shape[0] > 0 and spot.shape[1] > 0:  # Ensure valid spot dimensions\n",
    "                status = empty_or_not(spot)\n",
    "                color = (0, 255, 0) if status == EMPTY else (0, 0, 255)\n",
    "                cv2.rectangle(image, (x, y), (x+w, y+h), color, 2)\n",
    "    plt.figure(figsize=(12, 8))\n",
    "    plt.imshow(cv2.cvtColor(image, cv2.COLOR_BGR2RGB))\n",
    "    plt.title(title)\n",
    "    plt.axis('off')\n",
    "    plt.show()"
   ]
  },
  {
   "cell_type": "code",
   "execution_count": null,
   "metadata": {
    "execution": {
     "iopub.execute_input": "2024-07-15T16:39:45.651486Z",
     "iopub.status.busy": "2024-07-15T16:39:45.651004Z",
     "iopub.status.idle": "2024-07-15T16:39:46.257255Z",
     "shell.execute_reply": "2024-07-15T16:39:46.255889Z",
     "shell.execute_reply.started": "2024-07-15T16:39:45.651444Z"
    },
    "trusted": true
   },
   "outputs": [],
   "source": [
    "# Extract a frame from the video\n",
    "def extract_frame_from_video(video_path, frame_number=0):\n",
    "    cap = cv2.VideoCapture(video_path)\n",
    "    cap.set(cv2.CAP_PROP_POS_FRAMES, frame_number)\n",
    "    ret, frame = cap.read()\n",
    "    cap.release()\n",
    "    if ret:\n",
    "        return frame\n",
    "    else:\n",
    "        raise ValueError(\"Unable to extract frame from video.\")\n",
    "\n",
    "# image visualization\n",
    "video_path = \"/kaggle/input/parking-lot-detection-counter/parking/parking_crop_loop.mp4\"\n",
    "example_frame = extract_frame_from_video(video_path)\n",
    "visualize_parking_spots(example_frame, parking_bboxes)"
   ]
  },
  {
   "cell_type": "code",
   "execution_count": null,
   "metadata": {
    "execution": {
     "iopub.execute_input": "2024-07-15T16:39:46.259681Z",
     "iopub.status.busy": "2024-07-15T16:39:46.259157Z",
     "iopub.status.idle": "2024-07-15T16:43:35.595627Z",
     "shell.execute_reply": "2024-07-15T16:43:35.593984Z",
     "shell.execute_reply.started": "2024-07-15T16:39:46.259636Z"
    },
    "trusted": true
   },
   "outputs": [],
   "source": [
    "# Process video and detect parking spot status\n",
    "def process_video(video_path, bboxes, model, output_path):\n",
    "    cap = cv2.VideoCapture(video_path)\n",
    "    fourcc = cv2.VideoWriter_fourcc(*'mp4v')\n",
    "    out = cv2.VideoWriter(output_path, fourcc, 20.0, (int(cap.get(cv2.CAP_PROP_FRAME_WIDTH)), int(cap.get(cv2.CAP_PROP_FRAME_HEIGHT))))\n",
    "    \n",
    "    while cap.isOpened():\n",
    "        ret, frame = cap.read()\n",
    "        if not ret:\n",
    "            break\n",
    "        \n",
    "        for bbox in bboxes:\n",
    "            x, y, w, h = bbox\n",
    "            if w > 0 and h > 0:  # Ensure valid bounding box dimensions\n",
    "                spot = frame[y:y+h, x:x+w]\n",
    "                if spot.shape[0] > 0 and spot.shape[1] > 0:  # Ensure valid spot dimensions\n",
    "                    status = empty_or_not(spot)\n",
    "                    color = (0, 255, 0) if status == EMPTY else (0, 0, 255)\n",
    "                    cv2.rectangle(frame, (x, y), (x+w, y+h), color, 2)\n",
    "        \n",
    "        out.write(frame)\n",
    "    \n",
    "    cap.release()\n",
    "    out.release()\n",
    "\n",
    "# Process and save video\n",
    "input_video_path = \"/kaggle/input/parking-lot-detection-counter/parking/parking_crop_loop.mp4\"\n",
    "output_video_path = \"/kaggle/working/processed_parking_video.mp4\"\n",
    "process_video(input_video_path, parking_bboxes, MODEL, output_video_path)"
   ]
  },
  {
   "cell_type": "code",
   "execution_count": null,
   "metadata": {
    "execution": {
     "iopub.execute_input": "2024-07-15T16:43:35.600197Z",
     "iopub.status.busy": "2024-07-15T16:43:35.599662Z",
     "iopub.status.idle": "2024-07-15T16:43:37.195984Z",
     "shell.execute_reply": "2024-07-15T16:43:37.193871Z",
     "shell.execute_reply.started": "2024-07-15T16:43:35.600157Z"
    },
    "trusted": true
   },
   "outputs": [],
   "source": [
    "# Verify the video was saved correctly\n",
    "if os.path.exists(output_video_path):\n",
    "    print(f\"Video saved successfully at {output_video_path}\")\n",
    "    # Check the size of the video\n",
    "    video_size = os.path.getsize(output_video_path)\n",
    "    if video_size > 0:\n",
    "        print(f\"Video size: {video_size} bytes\")\n",
    "        # Display the processed video using IPython widgets\n",
    "        video_widget = widgets.Video.from_file(output_video_path)\n",
    "        video_widget.width = 800\n",
    "        video_widget.height = 600\n",
    "        display(video_widget)\n",
    "    else:\n",
    "        print(\"The video file is empty.\")\n",
    "else:\n",
    "    raise FileNotFoundError(f\"Processed video not found at {output_video_path}\")"
   ]
  },
  {
   "cell_type": "code",
   "execution_count": null,
   "metadata": {
    "execution": {
     "iopub.execute_input": "2024-07-15T16:43:37.199033Z",
     "iopub.status.busy": "2024-07-15T16:43:37.198523Z",
     "iopub.status.idle": "2024-07-15T16:44:15.276254Z",
     "shell.execute_reply": "2024-07-15T16:44:15.274721Z",
     "shell.execute_reply.started": "2024-07-15T16:43:37.198996Z"
    },
    "trusted": true
   },
   "outputs": [],
   "source": [
    "# Save processed images with bounding boxes\n",
    "def save_processed_images(image_paths, bboxes, output_dir):\n",
    "    os.makedirs(output_dir, exist_ok=True)\n",
    "    for image_path in image_paths:\n",
    "        image = cv2.imread(image_path)\n",
    "        if image is None:\n",
    "            continue\n",
    "        for bbox in bboxes:\n",
    "            x, y, w, h = bbox\n",
    "            if w > 0 and h > 0:  # Ensure valid bounding box dimensions\n",
    "                spot = image[y:y+h, x:x+w]\n",
    "                if spot.shape[0] > 0 and spot.shape[1] > 0:  # Ensure valid spot dimensions\n",
    "                    status = empty_or_not(spot)\n",
    "                    color = (0, 255, 0) if status == EMPTY else (0, 0, 255)\n",
    "                    cv2.rectangle(image, (x, y), (x+w, y+h), color, 2)\n",
    "        output_path = os.path.join(output_dir, os.path.basename(image_path))\n",
    "        cv2.imwrite(output_path, image)\n",
    "\n",
    "# Process and save images\n",
    "image_dir = \"/kaggle/input/parking-lot-detection-counter/parking/clf-data\"\n",
    "empty_dir = os.path.join(image_dir, \"empty\")\n",
    "not_empty_dir = os.path.join(image_dir, \"not_empty\")\n",
    "output_image_dir = \"/kaggle/working/processed_images\"\n",
    "\n",
    "empty_images = [os.path.join(empty_dir, img) for img in os.listdir(empty_dir)]\n",
    "not_empty_images = [os.path.join(not_empty_dir, img) for img in os.listdir(not_empty_dir)]\n",
    "all_images = empty_images + not_empty_images\n",
    "\n",
    "save_processed_images(all_images, parking_bboxes, output_image_dir)"
   ]
  },
  {
   "cell_type": "code",
   "execution_count": null,
   "metadata": {
    "execution": {
     "iopub.execute_input": "2024-07-15T16:44:15.278454Z",
     "iopub.status.busy": "2024-07-15T16:44:15.277983Z",
     "iopub.status.idle": "2024-07-15T16:44:17.889247Z",
     "shell.execute_reply": "2024-07-15T16:44:17.88762Z",
     "shell.execute_reply.started": "2024-07-15T16:44:15.27842Z"
    },
    "trusted": true
   },
   "outputs": [],
   "source": [
    "# Interactive visualization using Plotly\n",
    "def interactive_visualization(image, bboxes):\n",
    "    fig = px.imshow(cv2.cvtColor(image, cv2.COLOR_BGR2RGB))\n",
    "    for bbox in bboxes:\n",
    "        x, y, w, h = bbox\n",
    "        if w > 0 and h > 0:  # Ensure valid bounding box dimensions\n",
    "            spot = image[y:y+h, x:x+w]\n",
    "            if spot.shape[0] > 0 and spot.shape[1] > 0:  # Ensure valid spot dimensions\n",
    "                status = empty_or_not(spot)\n",
    "                color = \"green\" if status == EMPTY else \"red\"\n",
    "                fig.add_shape(type=\"rect\",\n",
    "                              x0=x, y0=y, x1=x+w, y1=y+h,\n",
    "                              line=dict(color=color, width=2))\n",
    "    fig.update_layout(title=\"Interactive Parking Spot Detection\", margin=dict(l=0, r=0, t=30, b=0))\n",
    "    fig.show()\n",
    "\n",
    "# Example interactive visualization\n",
    "interactive_visualization(example_frame, parking_bboxes)"
   ]
  }
 ],
 "metadata": {
  "kaggle": {
   "accelerator": "none",
   "dataSources": [
    {
     "datasetId": 5055547,
     "sourceId": 8477004,
     "sourceType": "datasetVersion"
    }
   ],
   "dockerImageVersionId": 30746,
   "isGpuEnabled": false,
   "isInternetEnabled": true,
   "language": "python",
   "sourceType": "notebook"
  },
  "kernelspec": {
   "display_name": "Python 3",
   "language": "python",
   "name": "python3"
  },
  "language_info": {
   "codemirror_mode": {
    "name": "ipython",
    "version": 3
   },
   "file_extension": ".py",
   "mimetype": "text/x-python",
   "name": "python",
   "nbconvert_exporter": "python",
   "pygments_lexer": "ipython3",
   "version": "3.10.13"
  }
 },
 "nbformat": 4,
 "nbformat_minor": 4
}
